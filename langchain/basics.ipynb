{
 "cells": [
  {
   "cell_type": "markdown",
   "id": "f5352929-e527-4488-9d1b-c446f47e5d89",
   "metadata": {},
   "source": [
    "# Langchain Basics"
   ]
  },
  {
   "cell_type": "code",
   "execution_count": 47,
   "id": "22a1eb98-a608-452d-8301-adfe1aa1a23d",
   "metadata": {
    "tags": []
   },
   "outputs": [],
   "source": [
    "# System\n",
    "import os\n",
    "\n",
    "# Third-party\n",
    "from langchain.llms import OpenAI\n",
    "from langchain.prompts import PromptTemplate\n",
    "from langchain.chains import LLMChain, ConversationChain\n",
    "from langchain.agents import load_tools, initialize_agent, AgentType"
   ]
  },
  {
   "cell_type": "markdown",
   "id": "76827365-30a9-4897-8d64-04cd2ab409fd",
   "metadata": {},
   "source": [
    "## Setting up OpenAI auth"
   ]
  },
  {
   "cell_type": "markdown",
   "id": "85d9527b-b574-4214-929e-b2c490783655",
   "metadata": {
    "tags": []
   },
   "source": [
    "export OPENAI_API_KEY=\"...\"\n",
    "or os.environ[\"OPENAI_API_KEY\"] = \"...\""
   ]
  },
  {
   "cell_type": "markdown",
   "id": "da8b3690-443d-4155-9313-3d00cea64732",
   "metadata": {},
   "source": [
    "## Basic LLM query"
   ]
  },
  {
   "cell_type": "code",
   "execution_count": 16,
   "id": "12a18f88-daac-4b60-ba15-447277a98237",
   "metadata": {
    "tags": []
   },
   "outputs": [],
   "source": [
    "llm = OpenAI(model_name='gpt-3.5-turbo', temperature=0.9)"
   ]
  },
  {
   "cell_type": "code",
   "execution_count": 18,
   "id": "a67a0ca4-6a90-49a4-8e22-4bdd311896dd",
   "metadata": {
    "tags": []
   },
   "outputs": [
    {
     "name": "stdout",
     "output_type": "stream",
     "text": [
      "Rainbow Threads\n"
     ]
    }
   ],
   "source": [
    "text = \"What would be a good company name for a company that makes colorful socks?\"\n",
    "print(llm(text))"
   ]
  },
  {
   "cell_type": "markdown",
   "id": "59f8cb6c-1064-4c3d-b479-74e5f0a5c60e",
   "metadata": {},
   "source": [
    "## Prompt Templates"
   ]
  },
  {
   "cell_type": "code",
   "execution_count": 21,
   "id": "709eef1b-8f6d-490c-9014-4e1c2f6eb7ec",
   "metadata": {
    "tags": []
   },
   "outputs": [
    {
     "name": "stdout",
     "output_type": "stream",
     "text": [
      "What is a good name for a company that makes colorful socks?\n"
     ]
    }
   ],
   "source": [
    "prompt = PromptTemplate(\n",
    "    input_variables=['product'],\n",
    "    template='What is a good name for a company that makes {product}?'\n",
    ")\n",
    "\n",
    "print(prompt.format(product='colorful socks'))"
   ]
  },
  {
   "cell_type": "markdown",
   "id": "47790578-9460-46e0-bcab-f6dc9fedef16",
   "metadata": {},
   "source": [
    "## Chains"
   ]
  },
  {
   "cell_type": "code",
   "execution_count": 38,
   "id": "88134b51-fdc1-4236-a189-a6e707660ccc",
   "metadata": {
    "tags": []
   },
   "outputs": [
    {
     "data": {
      "text/plain": [
       "'Velocity Motors'"
      ]
     },
     "execution_count": 38,
     "metadata": {},
     "output_type": "execute_result"
    }
   ],
   "source": [
    "chain = LLMChain(llm=llm, prompt=prompt)\n",
    "chain.run('cars')"
   ]
  },
  {
   "cell_type": "markdown",
   "id": "5191fd84-eb9d-42c4-93e1-003c5344fbea",
   "metadata": {},
   "source": [
    "## Agents"
   ]
  },
  {
   "cell_type": "code",
   "execution_count": 39,
   "id": "cf8247cc-1a09-491e-be49-79aee13be476",
   "metadata": {
    "tags": []
   },
   "outputs": [],
   "source": [
    "key = '9076f97e30c3b56672ce32385762e3f750f038d895755fce780940fd1b9ee3ab'\n",
    "os.environ['SERPAPI_API_KEY'] = key"
   ]
  },
  {
   "cell_type": "code",
   "execution_count": 46,
   "id": "320461e3-810b-4d59-85bc-9591052eea14",
   "metadata": {
    "tags": []
   },
   "outputs": [
    {
     "name": "stdout",
     "output_type": "stream",
     "text": [
      "\n",
      "\n",
      "\u001b[1m> Entering new AgentExecutor chain...\u001b[0m\n",
      "\u001b[32;1m\u001b[1;3mI need to find out Barack Obama's age first before squaring it. \n",
      "Action: Search \n",
      "Action Input: \"Barack Obama age\" \u001b[0m\n",
      "Observation: \u001b[36;1m\u001b[1;3m61 years\u001b[0m\n",
      "Thought:\u001b[32;1m\u001b[1;3mNow I need to square 61. \n",
      "Action: Calculator \n",
      "Action Input: 61^2 \u001b[0m\n",
      "Observation: \u001b[33;1m\u001b[1;3mAnswer: 3721\u001b[0m\n",
      "Thought:\u001b[32;1m\u001b[1;3mI now know the final answer. \n",
      "Final Answer: Barack Obama is 61 years old and 61 squared is 3721.\u001b[0m\n",
      "\n",
      "\u001b[1m> Finished chain.\u001b[0m\n"
     ]
    },
    {
     "data": {
      "text/plain": [
       "'Barack Obama is 61 years old and 61 squared is 3721.'"
      ]
     },
     "execution_count": 46,
     "metadata": {},
     "output_type": "execute_result"
    }
   ],
   "source": [
    "tools = load_tools(tool_names=['serpapi', 'llm-math'], \n",
    "                   llm=llm)\n",
    "\n",
    "agent = initialize_agent(tools=tools, \n",
    "                         llm=llm, \n",
    "                         agent=AgentType.ZERO_SHOT_REACT_DESCRIPTION,\n",
    "                         verbose=True)\n",
    "\n",
    "agent.run('How old is barack obama? What is that number squared?')"
   ]
  },
  {
   "cell_type": "markdown",
   "id": "fc2ce5cd-9325-471c-a099-5691daafaf46",
   "metadata": {},
   "source": [
    "## Agents with memory"
   ]
  },
  {
   "cell_type": "code",
   "execution_count": 49,
   "id": "528d0267-99fe-4017-b023-72ca432425b3",
   "metadata": {
    "tags": []
   },
   "outputs": [
    {
     "name": "stdout",
     "output_type": "stream",
     "text": [
      "\n",
      "\n",
      "\u001b[1m> Entering new ConversationChain chain...\u001b[0m\n",
      "Prompt after formatting:\n",
      "\u001b[32;1m\u001b[1;3mThe following is a friendly conversation between a human and an AI. The AI is talkative and provides lots of specific details from its context. If the AI does not know the answer to a question, it truthfully says it does not know.\n",
      "\n",
      "Current conversation:\n",
      "\n",
      "Human: Hi there!\n",
      "AI:\u001b[0m\n",
      "\n",
      "\u001b[1m> Finished chain.\u001b[0m\n",
      " Hi there! It's nice to meet you. How can I help you today?\n"
     ]
    }
   ],
   "source": [
    "llm = OpenAI(temperature=0)\n",
    "conversation = ConversationChain(llm=llm, verbose=True)\n",
    "output = conversation.predict(input='Hi there!')\n",
    "\n",
    "print(output)"
   ]
  }
 ],
 "metadata": {
  "kernelspec": {
   "display_name": "Python 3 (ipykernel)",
   "language": "python",
   "name": "python3"
  },
  "language_info": {
   "codemirror_mode": {
    "name": "ipython",
    "version": 3
   },
   "file_extension": ".py",
   "mimetype": "text/x-python",
   "name": "python",
   "nbconvert_exporter": "python",
   "pygments_lexer": "ipython3",
   "version": "3.10.11"
  }
 },
 "nbformat": 4,
 "nbformat_minor": 5
}
